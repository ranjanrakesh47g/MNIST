{
 "cells": [
  {
   "cell_type": "markdown",
   "metadata": {},
   "source": [
    "## I. Import packages"
   ]
  },
  {
   "cell_type": "code",
   "execution_count": 1,
   "metadata": {},
   "outputs": [
    {
     "name": "stderr",
     "output_type": "stream",
     "text": [
      "Using TensorFlow backend.\n"
     ]
    }
   ],
   "source": [
    "from __future__ import print_function\n",
    "import numpy as np\n",
    "from keras.datasets import mnist\n",
    "from keras.utils import np_utils\n",
    "\n",
    "from keras.models import Sequential\n",
    "from keras.layers import Convolution2D, MaxPooling2D\n",
    "from keras.layers import Activation, Dropout, Flatten, Dense\n",
    "from keras.preprocessing.image import ImageDataGenerator\n",
    "from keras.callbacks import EarlyStopping, ModelCheckpoint, ReduceLROnPlateau\n",
    "\n",
    "from sklearn.metrics import roc_auc_score\n",
    "import matplotlib.pyplot as plt\n",
    "%matplotlib inline"
   ]
  },
  {
   "cell_type": "markdown",
   "metadata": {},
   "source": [
    "## II. Parameters and hyperparameters"
   ]
  },
  {
   "cell_type": "code",
   "execution_count": 2,
   "metadata": {
    "collapsed": true
   },
   "outputs": [],
   "source": [
    "nb_classes = 10\n",
    "val_split = 0.1\n",
    "\n",
    "img_rows, img_cols = 28, 28\n",
    "nb_filters = 32\n",
    "nb_pool = 2\n",
    "kernel_size = (5, 5)\n",
    "\n",
    "batch_size = 512\n",
    "nb_epochs = 50\n",
    "\n",
    "model_path = 'best_model.h5'"
   ]
  },
  {
   "cell_type": "markdown",
   "metadata": {},
   "source": [
    "## III. Load data and split it into train and test data"
   ]
  },
  {
   "cell_type": "code",
   "execution_count": 3,
   "metadata": {},
   "outputs": [
    {
     "name": "stdout",
     "output_type": "stream",
     "text": [
      "X_train shape: (60000, 28, 28, 1)\n",
      "60000 train samples\n",
      "10000 test samples\n"
     ]
    }
   ],
   "source": [
    "# the data, shuffled and split between train and test sets\n",
    "(X_train, y_train), (X_test, y_test) = mnist.load_data()\n",
    "\n",
    "X_train = X_train.reshape(X_train.shape[0], img_rows, img_cols, 1)\n",
    "X_test = X_test.reshape(X_test.shape[0], img_rows, img_cols, 1)\n",
    "X_train = X_train.astype('float32')/255\n",
    "X_test = X_test.astype('float32')/255\n",
    "\n",
    "# convert class vectors to binary class matrices\n",
    "y_train = np_utils.to_categorical(y_train, nb_classes)\n",
    "y_test = np_utils.to_categorical(y_test, nb_classes)\n",
    "\n",
    "print('X_train shape:', X_train.shape)\n",
    "print(X_train.shape[0], 'train samples')\n",
    "print(X_test.shape[0], 'test samples')"
   ]
  },
  {
   "cell_type": "markdown",
   "metadata": {},
   "source": [
    "## IV. Model"
   ]
  },
  {
   "cell_type": "code",
   "execution_count": 4,
   "metadata": {
    "scrolled": true
   },
   "outputs": [
    {
     "name": "stdout",
     "output_type": "stream",
     "text": [
      "_________________________________________________________________\n",
      "Layer (type)                 Output Shape              Param #   \n",
      "=================================================================\n",
      "conv2d_1 (Conv2D)            (None, 24, 24, 32)        832       \n",
      "_________________________________________________________________\n",
      "activation_1 (Activation)    (None, 24, 24, 32)        0         \n",
      "_________________________________________________________________\n",
      "conv2d_2 (Conv2D)            (None, 20, 20, 32)        25632     \n",
      "_________________________________________________________________\n",
      "activation_2 (Activation)    (None, 20, 20, 32)        0         \n",
      "_________________________________________________________________\n",
      "max_pooling2d_1 (MaxPooling2 (None, 10, 10, 32)        0         \n",
      "_________________________________________________________________\n",
      "dropout_1 (Dropout)          (None, 10, 10, 32)        0         \n",
      "_________________________________________________________________\n",
      "flatten_1 (Flatten)          (None, 3200)              0         \n",
      "_________________________________________________________________\n",
      "dense_1 (Dense)              (None, 128)               409728    \n",
      "_________________________________________________________________\n",
      "activation_3 (Activation)    (None, 128)               0         \n",
      "_________________________________________________________________\n",
      "dropout_2 (Dropout)          (None, 128)               0         \n",
      "_________________________________________________________________\n",
      "dense_2 (Dense)              (None, 10)                1290      \n",
      "_________________________________________________________________\n",
      "activation_4 (Activation)    (None, 10)                0         \n",
      "=================================================================\n",
      "Total params: 437,482\n",
      "Trainable params: 437,482\n",
      "Non-trainable params: 0\n",
      "_________________________________________________________________\n"
     ]
    }
   ],
   "source": [
    "model = Sequential()\n",
    "\n",
    "model.add(Convolution2D(nb_filters, (kernel_size[0], kernel_size[1]),\n",
    "                        padding='valid',\n",
    "                        input_shape=(img_rows, img_cols, 1)))\n",
    "model.add(Activation('relu'))\n",
    "model.add(Convolution2D(nb_filters, (kernel_size[0], kernel_size[1])))\n",
    "model.add(Activation('relu'))\n",
    "model.add(MaxPooling2D(pool_size=(nb_pool, nb_pool)))\n",
    "\n",
    "model.add(Dropout(0.25))\n",
    "model.add(Flatten())\n",
    "model.add(Dense(128))\n",
    "model.add(Activation('relu'))\n",
    "model.add(Dropout(0.5))\n",
    "model.add(Dense(nb_classes))\n",
    "model.add(Activation('softmax'))\n",
    "\n",
    "model.compile(loss='categorical_crossentropy', optimizer='adam', metrics=['accuracy'])\n",
    "model.summary()"
   ]
  },
  {
   "cell_type": "markdown",
   "metadata": {},
   "source": [
    "## V. Train the model"
   ]
  },
  {
   "cell_type": "code",
   "execution_count": 5,
   "metadata": {
    "scrolled": true
   },
   "outputs": [
    {
     "name": "stdout",
     "output_type": "stream",
     "text": [
      "Train on 54000 samples, validate on 6000 samples\n",
      "Epoch 1/50\n",
      "54000/54000 [==============================] - 12s 224us/step - loss: 0.4532 - acc: 0.8591 - val_loss: 0.0774 - val_acc: 0.9797\n",
      "\n",
      "Epoch 00001: val_acc improved from -inf to 0.97967, saving model to best_model.h5\n",
      "Epoch 2/50\n",
      "54000/54000 [==============================] - 9s 170us/step - loss: 0.1278 - acc: 0.9626 - val_loss: 0.0554 - val_acc: 0.9848\n",
      "\n",
      "Epoch 00002: val_acc improved from 0.97967 to 0.98483, saving model to best_model.h5\n",
      "Epoch 3/50\n",
      "54000/54000 [==============================] - 9s 168us/step - loss: 0.0909 - acc: 0.9732 - val_loss: 0.0426 - val_acc: 0.9873\n",
      "\n",
      "Epoch 00003: val_acc improved from 0.98483 to 0.98733, saving model to best_model.h5\n",
      "Epoch 4/50\n",
      "54000/54000 [==============================] - 9s 173us/step - loss: 0.0754 - acc: 0.9773 - val_loss: 0.0429 - val_acc: 0.9883\n",
      "\n",
      "Epoch 00004: val_acc improved from 0.98733 to 0.98833, saving model to best_model.h5\n",
      "Epoch 5/50\n",
      "54000/54000 [==============================] - 10s 182us/step - loss: 0.0608 - acc: 0.9821 - val_loss: 0.0361 - val_acc: 0.9908\n",
      "\n",
      "Epoch 00005: val_acc improved from 0.98833 to 0.99083, saving model to best_model.h5\n",
      "Epoch 6/50\n",
      "54000/54000 [==============================] - 10s 187us/step - loss: 0.0553 - acc: 0.9829 - val_loss: 0.0348 - val_acc: 0.9910\n",
      "\n",
      "Epoch 00006: val_acc improved from 0.99083 to 0.99100, saving model to best_model.h5\n",
      "Epoch 7/50\n",
      "54000/54000 [==============================] - 11s 201us/step - loss: 0.0484 - acc: 0.9853 - val_loss: 0.0360 - val_acc: 0.9913\n",
      "\n",
      "Epoch 00007: val_acc improved from 0.99100 to 0.99133, saving model to best_model.h5\n",
      "Epoch 8/50\n",
      "54000/54000 [==============================] - 11s 211us/step - loss: 0.0440 - acc: 0.9865 - val_loss: 0.0303 - val_acc: 0.9910\n",
      "\n",
      "Epoch 00008: val_acc did not improve\n",
      "Epoch 9/50\n",
      "54000/54000 [==============================] - 12s 222us/step - loss: 0.0381 - acc: 0.9890 - val_loss: 0.0302 - val_acc: 0.9917\n",
      "\n",
      "Epoch 00009: val_acc improved from 0.99133 to 0.99167, saving model to best_model.h5\n",
      "Epoch 10/50\n",
      "54000/54000 [==============================] - 13s 247us/step - loss: 0.0361 - acc: 0.9888 - val_loss: 0.0305 - val_acc: 0.9905\n",
      "\n",
      "Epoch 00010: val_acc did not improve\n",
      "Epoch 11/50\n",
      "54000/54000 [==============================] - 15s 284us/step - loss: 0.0339 - acc: 0.9899 - val_loss: 0.0294 - val_acc: 0.9925\n",
      "\n",
      "Epoch 00011: val_acc improved from 0.99167 to 0.99250, saving model to best_model.h5\n",
      "Epoch 12/50\n",
      "54000/54000 [==============================] - 16s 302us/step - loss: 0.0309 - acc: 0.9903 - val_loss: 0.0286 - val_acc: 0.9922\n",
      "\n",
      "Epoch 00012: val_acc did not improve\n",
      "Epoch 13/50\n",
      "54000/54000 [==============================] - 16s 305us/step - loss: 0.0308 - acc: 0.9903 - val_loss: 0.0301 - val_acc: 0.9925\n",
      "\n",
      "Epoch 00013: val_acc did not improve\n",
      "Epoch 14/50\n",
      "54000/54000 [==============================] - 17s 307us/step - loss: 0.0278 - acc: 0.9911 - val_loss: 0.0304 - val_acc: 0.9917\n",
      "\n",
      "Epoch 00014: val_acc did not improve\n",
      "Epoch 15/50\n",
      "54000/54000 [==============================] - 16s 293us/step - loss: 0.0279 - acc: 0.9912 - val_loss: 0.0300 - val_acc: 0.9923\n",
      "\n",
      "Epoch 00015: val_acc did not improve\n",
      "Epoch 16/50\n",
      "54000/54000 [==============================] - 16s 290us/step - loss: 0.0237 - acc: 0.9926 - val_loss: 0.0296 - val_acc: 0.9927\n",
      "\n",
      "Epoch 00016: val_acc improved from 0.99250 to 0.99267, saving model to best_model.h5\n",
      "Epoch 17/50\n",
      "54000/54000 [==============================] - 17s 317us/step - loss: 0.0238 - acc: 0.9922 - val_loss: 0.0255 - val_acc: 0.9927\n",
      "\n",
      "Epoch 00017: val_acc did not improve\n",
      "\n",
      "Epoch 00017: ReduceLROnPlateau reducing learning rate to 0.00033000001567415896.\n",
      "Epoch 18/50\n",
      "54000/54000 [==============================] - 15s 281us/step - loss: 0.0185 - acc: 0.9942 - val_loss: 0.0269 - val_acc: 0.9928\n",
      "\n",
      "Epoch 00018: val_acc improved from 0.99267 to 0.99283, saving model to best_model.h5\n",
      "Epoch 19/50\n",
      "54000/54000 [==============================] - 17s 311us/step - loss: 0.0163 - acc: 0.9948 - val_loss: 0.0275 - val_acc: 0.9933\n",
      "\n",
      "Epoch 00019: val_acc improved from 0.99283 to 0.99333, saving model to best_model.h5\n",
      "Epoch 20/50\n",
      "54000/54000 [==============================] - 17s 312us/step - loss: 0.0147 - acc: 0.9952 - val_loss: 0.0308 - val_acc: 0.9932\n",
      "\n",
      "Epoch 00020: val_acc did not improve\n",
      "Epoch 21/50\n",
      "54000/54000 [==============================] - 16s 288us/step - loss: 0.0150 - acc: 0.9953 - val_loss: 0.0263 - val_acc: 0.9938\n",
      "\n",
      "Epoch 00021: val_acc improved from 0.99333 to 0.99383, saving model to best_model.h5\n",
      "Epoch 22/50\n",
      "54000/54000 [==============================] - 16s 299us/step - loss: 0.0138 - acc: 0.9957 - val_loss: 0.0284 - val_acc: 0.9937\n",
      "\n",
      "Epoch 00022: val_acc did not improve\n",
      "Epoch 23/50\n",
      "54000/54000 [==============================] - 16s 294us/step - loss: 0.0127 - acc: 0.9960 - val_loss: 0.0310 - val_acc: 0.9935\n",
      "\n",
      "Epoch 00023: val_acc did not improve\n",
      "Epoch 24/50\n",
      "54000/54000 [==============================] - 16s 291us/step - loss: 0.0127 - acc: 0.9958 - val_loss: 0.0294 - val_acc: 0.9938\n",
      "\n",
      "Epoch 00024: val_acc did not improve\n",
      "Epoch 25/50\n",
      "54000/54000 [==============================] - 16s 291us/step - loss: 0.0126 - acc: 0.9956 - val_loss: 0.0317 - val_acc: 0.9937\n",
      "\n",
      "Epoch 00025: val_acc did not improve\n",
      "Epoch 26/50\n",
      "54000/54000 [==============================] - 16s 296us/step - loss: 0.0130 - acc: 0.9957 - val_loss: 0.0284 - val_acc: 0.9937\n",
      "\n",
      "Epoch 00026: val_acc did not improve\n",
      "Epoch 27/50\n",
      "54000/54000 [==============================] - 16s 298us/step - loss: 0.0120 - acc: 0.9961 - val_loss: 0.0296 - val_acc: 0.9938\n",
      "\n",
      "Epoch 00027: val_acc did not improve\n",
      "\n",
      "Epoch 00027: ReduceLROnPlateau reducing learning rate to 0.00010890000325161964.\n",
      "Epoch 28/50\n",
      "54000/54000 [==============================] - 16s 292us/step - loss: 0.0103 - acc: 0.9966 - val_loss: 0.0294 - val_acc: 0.9938\n",
      "\n",
      "Epoch 00028: val_acc improved from 0.99383 to 0.99383, saving model to best_model.h5\n",
      "Epoch 29/50\n",
      "54000/54000 [==============================] - 16s 291us/step - loss: 0.0102 - acc: 0.9966 - val_loss: 0.0289 - val_acc: 0.9942\n",
      "\n",
      "Epoch 00029: val_acc improved from 0.99383 to 0.99417, saving model to best_model.h5\n",
      "Epoch 30/50\n",
      "54000/54000 [==============================] - 16s 291us/step - loss: 0.0091 - acc: 0.9972 - val_loss: 0.0295 - val_acc: 0.9938\n",
      "\n",
      "Epoch 00030: val_acc did not improve\n",
      "Epoch 31/50\n",
      "54000/54000 [==============================] - 16s 291us/step - loss: 0.0090 - acc: 0.9971 - val_loss: 0.0297 - val_acc: 0.9942\n",
      "\n",
      "Epoch 00031: val_acc did not improve\n",
      "Epoch 32/50\n",
      "54000/54000 [==============================] - 17s 315us/step - loss: 0.0103 - acc: 0.9964 - val_loss: 0.0280 - val_acc: 0.9938\n",
      "\n",
      "Epoch 00032: val_acc did not improve\n",
      "\n",
      "Epoch 00032: ReduceLROnPlateau reducing learning rate to 3.5936999920522795e-05.\n",
      "Epoch 33/50\n",
      "54000/54000 [==============================] - 16s 293us/step - loss: 0.0091 - acc: 0.9966 - val_loss: 0.0290 - val_acc: 0.9940\n",
      "\n",
      "Epoch 00033: val_acc did not improve\n",
      "Epoch 34/50\n",
      "54000/54000 [==============================] - 16s 300us/step - loss: 0.0085 - acc: 0.9971 - val_loss: 0.0293 - val_acc: 0.9943\n",
      "\n",
      "Epoch 00034: val_acc improved from 0.99417 to 0.99433, saving model to best_model.h5\n",
      "Epoch 35/50\n",
      "54000/54000 [==============================] - 16s 292us/step - loss: 0.0096 - acc: 0.9968 - val_loss: 0.0288 - val_acc: 0.9943\n",
      "\n",
      "Epoch 00035: val_acc did not improve\n",
      "Epoch 36/50\n",
      "54000/54000 [==============================] - 16s 294us/step - loss: 0.0085 - acc: 0.9973 - val_loss: 0.0293 - val_acc: 0.9940\n",
      "\n",
      "Epoch 00036: val_acc did not improve\n",
      "Epoch 37/50\n",
      "54000/54000 [==============================] - 16s 293us/step - loss: 0.0092 - acc: 0.9970 - val_loss: 0.0290 - val_acc: 0.9942\n",
      "\n",
      "Epoch 00037: val_acc did not improve\n",
      "\n",
      "Epoch 00037: ReduceLROnPlateau reducing learning rate to 1.185920958960196e-05.\n",
      "Epoch 38/50\n",
      "54000/54000 [==============================] - 16s 291us/step - loss: 0.0083 - acc: 0.9973 - val_loss: 0.0293 - val_acc: 0.9942\n",
      "\n",
      "Epoch 00038: val_acc did not improve\n",
      "Epoch 39/50\n",
      "54000/54000 [==============================] - 16s 291us/step - loss: 0.0085 - acc: 0.9972 - val_loss: 0.0294 - val_acc: 0.9942\n",
      "\n",
      "Epoch 00039: val_acc did not improve\n",
      "Epoch 40/50\n",
      "54000/54000 [==============================] - 16s 291us/step - loss: 0.0093 - acc: 0.9969 - val_loss: 0.0296 - val_acc: 0.9942\n"
     ]
    },
    {
     "name": "stdout",
     "output_type": "stream",
     "text": [
      "\n",
      "Epoch 00040: val_acc did not improve\n",
      "Epoch 41/50\n",
      "54000/54000 [==============================] - 16s 289us/step - loss: 0.0083 - acc: 0.9972 - val_loss: 0.0293 - val_acc: 0.9942\n",
      "\n",
      "Epoch 00041: val_acc did not improve\n",
      "Epoch 42/50\n",
      "54000/54000 [==============================] - 16s 289us/step - loss: 0.0084 - acc: 0.9973 - val_loss: 0.0292 - val_acc: 0.9943\n",
      "\n",
      "Epoch 00042: val_acc did not improve\n",
      "\n",
      "Epoch 00042: ReduceLROnPlateau reducing learning rate to 3.913539212589967e-06.\n",
      "Epoch 43/50\n",
      "54000/54000 [==============================] - 16s 290us/step - loss: 0.0086 - acc: 0.9972 - val_loss: 0.0293 - val_acc: 0.9942\n",
      "\n",
      "Epoch 00043: val_acc did not improve\n",
      "Epoch 44/50\n",
      "54000/54000 [==============================] - 16s 289us/step - loss: 0.0095 - acc: 0.9969 - val_loss: 0.0292 - val_acc: 0.9942\n",
      "\n",
      "Epoch 00044: val_acc did not improve\n",
      "Epoch 45/50\n",
      "54000/54000 [==============================] - 16s 289us/step - loss: 0.0091 - acc: 0.9970 - val_loss: 0.0292 - val_acc: 0.9942\n",
      "\n",
      "Epoch 00045: val_acc did not improve\n",
      "Epoch 46/50\n",
      "54000/54000 [==============================] - 16s 289us/step - loss: 0.0082 - acc: 0.9975 - val_loss: 0.0292 - val_acc: 0.9942\n",
      "\n",
      "Epoch 00046: val_acc did not improve\n",
      "Epoch 47/50\n",
      "54000/54000 [==============================] - 16s 289us/step - loss: 0.0087 - acc: 0.9970 - val_loss: 0.0291 - val_acc: 0.9942\n",
      "\n",
      "Epoch 00047: val_acc did not improve\n",
      "\n",
      "Epoch 00047: ReduceLROnPlateau reducing learning rate to 1.2914679791720119e-06.\n",
      "Epoch 48/50\n",
      "54000/54000 [==============================] - 16s 293us/step - loss: 0.0080 - acc: 0.9973 - val_loss: 0.0292 - val_acc: 0.9942\n",
      "\n",
      "Epoch 00048: val_acc did not improve\n",
      "Epoch 49/50\n",
      "54000/54000 [==============================] - 16s 295us/step - loss: 0.0076 - acc: 0.9977 - val_loss: 0.0292 - val_acc: 0.9942\n",
      "\n",
      "Epoch 00049: val_acc did not improve\n",
      "Epoch 50/50\n",
      "54000/54000 [==============================] - 16s 294us/step - loss: 0.0085 - acc: 0.9974 - val_loss: 0.0292 - val_acc: 0.9942\n",
      "\n",
      "Epoch 00050: val_acc did not improve\n"
     ]
    }
   ],
   "source": [
    "early_stop = EarlyStopping(monitor='val_acc', patience=20, verbose=1)\n",
    "check_pts = ModelCheckpoint(model_path, monitor='val_acc', save_best_only=True, verbose=1)\n",
    "reduce_lr_loss = ReduceLROnPlateau(monitor='val_acc', factor=0.33, patience=5, verbose=1, epsilon=1e-3)\n",
    "\n",
    "history = model.fit(X_train, y_train, validation_split=val_split, batch_size=batch_size, epochs=nb_epochs,\n",
    "                    shuffle=True, callbacks=[early_stop, check_pts, reduce_lr_loss])"
   ]
  },
  {
   "cell_type": "code",
   "execution_count": 6,
   "metadata": {},
   "outputs": [
    {
     "name": "stdout",
     "output_type": "stream",
     "text": [
      "6000/6000 [==============================] - 1s 148us/step\n",
      "\n",
      "Best Val loss:  0.0292755153496\n",
      "Best Val accuracy:  0.994333333333\n"
     ]
    }
   ],
   "source": [
    "X_val = history.validation_data[0]\n",
    "y_val = history.validation_data[1]\n",
    "model.load_weights(filepath=model_path)\n",
    "\n",
    "score = model.evaluate(X_val, y_val)\n",
    "print('\\nBest Val loss: ', score[0])\n",
    "print('Best Val accuracy: ', score[1])"
   ]
  },
  {
   "cell_type": "markdown",
   "metadata": {},
   "source": [
    "## VI. Evaluate the trained model on test-set"
   ]
  },
  {
   "cell_type": "code",
   "execution_count": 7,
   "metadata": {
    "scrolled": true
   },
   "outputs": [
    {
     "name": "stdout",
     "output_type": "stream",
     "text": [
      "10000/10000 [==============================] - 2s 158us/step\n",
      "\n",
      "Test loss:  0.0187461634366\n",
      "Test accuracy:  0.9952\n"
     ]
    }
   ],
   "source": [
    "score = model.evaluate(X_test, y_test)\n",
    "print('\\nTest loss: ', score[0])\n",
    "print('Test accuracy: ', score[1])"
   ]
  },
  {
   "cell_type": "code",
   "execution_count": 8,
   "metadata": {},
   "outputs": [
    {
     "name": "stdout",
     "output_type": "stream",
     "text": [
      "ROC-AUC score: 0.999978\n"
     ]
    }
   ],
   "source": [
    "y_predicted = model.predict(X_test)\n",
    "print(\"ROC-AUC score: %f\" %(roc_auc_score(y_test, y_predicted)))"
   ]
  },
  {
   "cell_type": "markdown",
   "metadata": {},
   "source": [
    "## VII. Plot 'accuracy' and 'loss'"
   ]
  },
  {
   "cell_type": "code",
   "execution_count": 9,
   "metadata": {
    "scrolled": true
   },
   "outputs": [
    {
     "data": {
      "image/png": "[encoded data removed]",
      "text/plain": [
       "<matplotlib.figure.Figure at 0x7f2562e8cb38>"
      ]
     },
     "metadata": {},
     "output_type": "display_data"
    }
   ],
   "source": [
    "plt.plot(history.history['acc'])\n",
    "plt.plot(history.history['val_acc'])\n",
    "plt.title('Model Accuracy')\n",
    "plt.ylabel('Accuracy')\n",
    "plt.xlabel('No. of epochs')\n",
    "plt.grid(linestyle='dotted')\n",
    "lgd = plt.legend(['Train', 'Validate'], bbox_to_anchor=(1, 1), loc=2)\n",
    "plt.show()"
   ]
  },
  {
   "cell_type": "code",
   "execution_count": 10,
   "metadata": {},
   "outputs": [
    {
     "data": {
      "image/png": "[encoded data removed]",
      "text/plain": [
       "<matplotlib.figure.Figure at 0x7f25e415a710>"
      ]
     },
     "metadata": {},
     "output_type": "display_data"
    }
   ],
   "source": [
    "plt.plot(history.history['loss'])\n",
    "plt.plot(history.history['val_loss'])\n",
    "plt.title('Model Loss')\n",
    "plt.ylabel('Loss')\n",
    "plt.xlabel('No. of epochs')\n",
    "plt.grid(linestyle='dotted')\n",
    "lgd = plt.legend(['Train', 'Validate'], bbox_to_anchor=(1, 1), loc=2)\n",
    "plt.show()"
   ]
  },
  {
   "cell_type": "code",
   "execution_count": null,
   "metadata": {
    "collapsed": true
   },
   "outputs": [],
   "source": []
  },
  {
   "cell_type": "code",
   "execution_count": null,
   "metadata": {
    "collapsed": true
   },
   "outputs": [],
   "source": []
  }
 ],
 "metadata": {
  "kernelspec": {
   "display_name": "Python 3",
   "language": "python",
   "name": "python3"
  },
  "language_info": {
   "codemirror_mode": {
    "name": "ipython",
    "version": 3
   },
   "file_extension": ".py",
   "mimetype": "text/x-python",
   "name": "python",
   "nbconvert_exporter": "python",
   "pygments_lexer": "ipython3",
   "version": "3.6.3"
  }
 },
 "nbformat": 4,
 "nbformat_minor": 1
}
